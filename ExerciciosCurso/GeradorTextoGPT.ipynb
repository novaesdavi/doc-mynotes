{
 "cells": [
  {
   "cell_type": "code",
   "execution_count": 19,
   "id": "5af8f7a8",
   "metadata": {},
   "outputs": [],
   "source": [
    "from openai import OpenAI\n",
    "from dotenv import load_dotenv\n",
    "import os"
   ]
  },
  {
   "cell_type": "code",
   "execution_count": null,
   "id": "18de68a1",
   "metadata": {},
   "outputs": [],
   "source": [
    "apikeyGpt = os.environ.get('GPT_APIKEY')   # None if unset\n",
    "if not apikeyGpt:\n",
    "    raise RuntimeError(\"GPT_APIKEY not set. Set it in PowerShell or Windows Environment Variables.\")\n"
   ]
  },
  {
   "cell_type": "code",
   "execution_count": 21,
   "id": "7bcc2642",
   "metadata": {},
   "outputs": [
    {
     "name": "stdout",
     "output_type": "stream",
     "text": [
      "Claro! Vou te ensinar a criar um agente de IA simples em Python. Vamos fazer um exemplo básico: um agente que responde a perguntas simples usando regras predefinidas.\n",
      "\n",
      "### Passo 1: Instale o Python (se ainda não tiver)\n",
      "\n",
      "Certifique-se de ter o Python instalado na sua máquina. Recomendo usar o Python 3.8 ou superior.\n",
      "\n",
      "### Passo 2: Crie um arquivo Python\n",
      "\n",
      "Abra o seu editor de texto ou IDE preferido e crie um arquivo, por exemplo `agente_simples.py`.\n",
      "\n",
      "### Passo 3: Código do agente simples\n",
      "\n",
      "Aqui está um exemplo básico de um agente de IA simples que responde a perguntas específicas:\n",
      "\n",
      "```python\n",
      "# Agente simples de IA\n",
      "\n",
      "def responder(pergunta):\n",
      "    pergunta = pergunta.lower()\n",
      "\n",
      "    if \"|olá|oi|ei|hello|\" in pergunta:\n",
      "        return \"Olá! Como posso ajudar você hoje?\"\n",
      "    elif \"como você está\" in pergunta:\n",
      "        return \"Estou bem, obrigado por perguntar!\"\n",
      "    elif \"qual é o seu nome\" in pergunta:\n",
      "        return \"Eu sou um agente simples de IA criado em Python.\"\n",
      "    elif \"adeus\" in pergunta or \"tchau\" in pergunta:\n",
      "        return \"Até logo!\n"
     ]
    }
   ],
   "source": [
    "client = OpenAI(api_key=apikeyGpt)\n",
    "\n",
    "response = client.responses.create(\n",
    "    model=\"gpt-4.1-nano\",\n",
    "    input=\"Me ensina a montar um agente de IA simples em Python?\",max_output_tokens=256)\n",
    "\n",
    "print(response.output_text)"
   ]
  }
 ],
 "metadata": {
  "kernelspec": {
   "display_name": "Python 3",
   "language": "python",
   "name": "python3"
  },
  "language_info": {
   "codemirror_mode": {
    "name": "ipython",
    "version": 3
   },
   "file_extension": ".py",
   "mimetype": "text/x-python",
   "name": "python",
   "nbconvert_exporter": "python",
   "pygments_lexer": "ipython3",
   "version": "3.13.9"
  }
 },
 "nbformat": 4,
 "nbformat_minor": 5
}
