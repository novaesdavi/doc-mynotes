{
 "cells": [
  {
   "cell_type": "code",
   "execution_count": null,
   "id": "5c5547d0",
   "metadata": {},
   "outputs": [],
   "source": [
    "import pandas as pd\n",
    "from sklearn.preprocessing import StandardScaler, LabelEncoder"
   ]
  },
  {
   "cell_type": "code",
   "execution_count": null,
   "id": "d084948e",
   "metadata": {},
   "outputs": [],
   "source": [
    "dataset = pd.read_csv('credit_simple.csv', se=';')"
   ]
  }
 ],
 "metadata": {
  "language_info": {
   "name": "python"
  }
 },
 "nbformat": 4,
 "nbformat_minor": 5
}
