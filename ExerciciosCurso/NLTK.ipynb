{
 "cells": [
  {
   "cell_type": "code",
   "execution_count": 2,
   "id": "35543e5e",
   "metadata": {},
   "outputs": [],
   "source": [
    "import nltk\n",
    "from nltk.corpus import stopwords\n",
    "from nltk.stem import PorterStemmer, WordNetLemmatizer, SnowballStemmer, LancasterStemmer\n",
    "from nltk.tokenize import word_tokenize, sent_tokenize\n",
    "from nltk.tag import pos_tag, pos_tag_sents\n",
    "import string\n"
   ]
  },
  {
   "cell_type": "code",
   "execution_count": 3,
   "id": "9d36da84",
   "metadata": {},
   "outputs": [
    {
     "name": "stderr",
     "output_type": "stream",
     "text": [
      "[nltk_data] Downloading package stopwords to\n",
      "[nltk_data]     C:\\Users\\dnova\\AppData\\Roaming\\nltk_data...\n",
      "[nltk_data]   Package stopwords is already up-to-date!\n",
      "[nltk_data] Downloading package punkt to\n",
      "[nltk_data]     C:\\Users\\dnova\\AppData\\Roaming\\nltk_data...\n",
      "[nltk_data]   Package punkt is already up-to-date!\n",
      "[nltk_data] Downloading package punkt_tab to\n",
      "[nltk_data]     C:\\Users\\dnova\\AppData\\Roaming\\nltk_data...\n",
      "[nltk_data]   Package punkt_tab is already up-to-date!\n",
      "[nltk_data] Downloading package tagsets_json to\n",
      "[nltk_data]     C:\\Users\\dnova\\AppData\\Roaming\\nltk_data...\n",
      "[nltk_data]   Package tagsets_json is already up-to-date!\n",
      "[nltk_data] Downloading package averaged_perceptron_tagger to\n",
      "[nltk_data]     C:\\Users\\dnova\\AppData\\Roaming\\nltk_data...\n",
      "[nltk_data]   Package averaged_perceptron_tagger is already up-to-\n",
      "[nltk_data]       date!\n",
      "[nltk_data] Downloading package maxent_ne_chunker to\n",
      "[nltk_data]     C:\\Users\\dnova\\AppData\\Roaming\\nltk_data...\n",
      "[nltk_data]   Package maxent_ne_chunker is already up-to-date!\n",
      "[nltk_data] Downloading package wordnet to\n",
      "[nltk_data]     C:\\Users\\dnova\\AppData\\Roaming\\nltk_data...\n",
      "[nltk_data]   Package wordnet is already up-to-date!\n",
      "[nltk_data] Downloading package words to\n",
      "[nltk_data]     C:\\Users\\dnova\\AppData\\Roaming\\nltk_data...\n",
      "[nltk_data]   Package words is already up-to-date!\n"
     ]
    },
    {
     "data": {
      "text/plain": [
       "True"
      ]
     },
     "execution_count": 3,
     "metadata": {},
     "output_type": "execute_result"
    }
   ],
   "source": [
    "nltk.download('stopwords')\n",
    "nltk.download('punkt')\n",
    "nltk.download('punkt_tab')\n",
    "nltk.download('tagsets_json')\n",
    "nltk.download('averaged_perceptron_tagger')\n",
    "nltk.download('maxent_ne_chunker')\n",
    "nltk.download('wordnet')\n",
    "nltk.download('words')\n",
    "\n"
   ]
  },
  {
   "cell_type": "code",
   "execution_count": 4,
   "id": "7101a142",
   "metadata": {},
   "outputs": [
    {
     "name": "stdout",
     "output_type": "stream",
     "text": [
      "Nós somos feitos de poeira estelar. \n",
      "Nós somos uma maneira do universo conhecer a si mesmo. \n",
      "A imaginação é mais importante que o conhecimento. \n",
      "O conhecimento é limitado. \n",
      "A imaginação envolve o mundo.\n"
     ]
    }
   ],
   "source": [
    "Texto = '''Nós somos feitos de poeira estelar. \n",
    "Nós somos uma maneira do universo conhecer a si mesmo. \n",
    "A imaginação é mais importante que o conhecimento. \n",
    "O conhecimento é limitado. \n",
    "A imaginação envolve o mundo.'''\n",
    "\n",
    "print(Texto)\n",
    "\n"
   ]
  },
  {
   "cell_type": "code",
   "execution_count": 5,
   "id": "f63bc8fa",
   "metadata": {},
   "outputs": [
    {
     "name": "stdout",
     "output_type": "stream",
     "text": [
      "['Nós somos feitos de poeira estelar.', 'Nós somos uma maneira do universo conhecer a si mesmo.', 'A imaginação é mais importante que o conhecimento.', 'O conhecimento é limitado.', 'A imaginação envolve o mundo.']\n"
     ]
    }
   ],
   "source": [
    "sentencas = sent_tokenize(Texto)\n",
    "print(sentencas)"
   ]
  },
  {
   "cell_type": "code",
   "execution_count": 6,
   "id": "de882c8a",
   "metadata": {},
   "outputs": [
    {
     "name": "stdout",
     "output_type": "stream",
     "text": [
      "['Nós', 'somos', 'feitos', 'de', 'poeira', 'estelar', '.', 'Nós', 'somos', 'uma', 'maneira', 'do', 'universo', 'conhecer', 'a', 'si', 'mesmo', '.', 'A', 'imaginação', 'é', 'mais', 'importante', 'que', 'o', 'conhecimento', '.', 'O', 'conhecimento', 'é', 'limitado', '.', 'A', 'imaginação', 'envolve', 'o', 'mundo', '.']\n"
     ]
    }
   ],
   "source": [
    "tokens = word_tokenize(Texto)\n",
    "print(tokens)"
   ]
  },
  {
   "cell_type": "code",
   "execution_count": 7,
   "id": "d83786b2",
   "metadata": {},
   "outputs": [
    {
     "name": "stdout",
     "output_type": "stream",
     "text": [
      "38\n"
     ]
    }
   ],
   "source": [
    "print(len(tokens))"
   ]
  },
  {
   "cell_type": "code",
   "execution_count": 8,
   "id": "c9d5299d",
   "metadata": {},
   "outputs": [
    {
     "name": "stdout",
     "output_type": "stream",
     "text": [
      "['a', 'à', 'ao', 'aos', 'aquela', 'aquelas', 'aquele', 'aqueles', 'aquilo', 'as', 'às', 'até', 'com', 'como', 'da', 'das', 'de', 'dela', 'delas', 'dele', 'deles', 'depois', 'do', 'dos', 'e', 'é', 'ela', 'elas', 'ele', 'eles', 'em', 'entre', 'era', 'eram', 'éramos', 'essa', 'essas', 'esse', 'esses', 'esta', 'está', 'estamos', 'estão', 'estar', 'estas', 'estava', 'estavam', 'estávamos', 'este', 'esteja', 'estejam', 'estejamos', 'estes', 'esteve', 'estive', 'estivemos', 'estiver', 'estivera', 'estiveram', 'estivéramos', 'estiverem', 'estivermos', 'estivesse', 'estivessem', 'estivéssemos', 'estou', 'eu', 'foi', 'fomos', 'for', 'fora', 'foram', 'fôramos', 'forem', 'formos', 'fosse', 'fossem', 'fôssemos', 'fui', 'há', 'haja', 'hajam', 'hajamos', 'hão', 'havemos', 'haver', 'hei', 'houve', 'houvemos', 'houver', 'houvera', 'houverá', 'houveram', 'houvéramos', 'houverão', 'houverei', 'houverem', 'houveremos', 'houveria', 'houveriam', 'houveríamos', 'houvermos', 'houvesse', 'houvessem', 'houvéssemos', 'isso', 'isto', 'já', 'lhe', 'lhes', 'mais', 'mas', 'me', 'mesmo', 'meu', 'meus', 'minha', 'minhas', 'muito', 'na', 'não', 'nas', 'nem', 'no', 'nos', 'nós', 'nossa', 'nossas', 'nosso', 'nossos', 'num', 'numa', 'o', 'os', 'ou', 'para', 'pela', 'pelas', 'pelo', 'pelos', 'por', 'qual', 'quando', 'que', 'quem', 'são', 'se', 'seja', 'sejam', 'sejamos', 'sem', 'ser', 'será', 'serão', 'serei', 'seremos', 'seria', 'seriam', 'seríamos', 'seu', 'seus', 'só', 'somos', 'sou', 'sua', 'suas', 'também', 'te', 'tem', 'tém', 'temos', 'tenha', 'tenham', 'tenhamos', 'tenho', 'terá', 'terão', 'terei', 'teremos', 'teria', 'teriam', 'teríamos', 'teu', 'teus', 'teve', 'tinha', 'tinham', 'tínhamos', 'tive', 'tivemos', 'tiver', 'tivera', 'tiveram', 'tivéramos', 'tiverem', 'tivermos', 'tivesse', 'tivessem', 'tivéssemos', 'tu', 'tua', 'tuas', 'um', 'uma', 'você', 'vocês', 'vos']\n"
     ]
    }
   ],
   "source": [
    "stops = stopwords.words('portuguese')\n",
    "print(stops)"
   ]
  },
  {
   "cell_type": "code",
   "execution_count": 9,
   "id": "c30747ee",
   "metadata": {},
   "outputs": [
    {
     "name": "stdout",
     "output_type": "stream",
     "text": [
      "207\n"
     ]
    }
   ],
   "source": [
    "print(len(stops))"
   ]
  },
  {
   "cell_type": "code",
   "execution_count": 10,
   "id": "330959c1",
   "metadata": {},
   "outputs": [
    {
     "name": "stdout",
     "output_type": "stream",
     "text": [
      "['Nós', 'feitos', 'poeira', 'estelar', 'Nós', 'maneira', 'universo', 'conhecer', 'si', 'A', 'imaginação', 'importante', 'conhecimento', 'O', 'conhecimento', 'limitado', 'A', 'imaginação', 'envolve', 'mundo']\n"
     ]
    }
   ],
   "source": [
    "palavras_sem_stopwords = [p for p in tokens if p not in stops and p not in string.punctuation]\n",
    "print(palavras_sem_stopwords)"
   ]
  },
  {
   "cell_type": "code",
   "execution_count": 11,
   "id": "fcf93ead",
   "metadata": {},
   "outputs": [
    {
     "name": "stdout",
     "output_type": "stream",
     "text": [
      "!\"#$%&'()*+,-./:;<=>?@[\\]^_`{|}~\n"
     ]
    }
   ],
   "source": [
    "print(string.punctuation)"
   ]
  },
  {
   "cell_type": "code",
   "execution_count": 15,
   "id": "4a5ee972",
   "metadata": {},
   "outputs": [
    {
     "data": {
      "text/plain": [
       "FreqDist({'Nós': 2, 'A': 2, 'imaginação': 2, 'conhecimento': 2, 'feitos': 1, 'poeira': 1, 'estelar': 1, 'maneira': 1, 'universo': 1, 'conhecer': 1, ...})"
      ]
     },
     "execution_count": 15,
     "metadata": {},
     "output_type": "execute_result"
    }
   ],
   "source": [
    "frequencia = nltk.FreqDist(palavras_sem_stopwords)\n",
    "frequencia"
   ]
  },
  {
   "cell_type": "code",
   "execution_count": 13,
   "id": "2ed9cfeb",
   "metadata": {},
   "outputs": [
    {
     "name": "stdout",
     "output_type": "stream",
     "text": [
      "[('Nós', 2), ('A', 2), ('imaginação', 2), ('conhecimento', 2), ('feitos', 1)]\n"
     ]
    }
   ],
   "source": [
    "mais_comuns = frequencia.most_common(5)\n",
    "print(mais_comuns)"
   ]
  },
  {
   "cell_type": "code",
   "execution_count": 16,
   "id": "4e07a628",
   "metadata": {},
   "outputs": [
    {
     "name": "stdout",
     "output_type": "stream",
     "text": [
      "['nó', 'feito', 'poeira', 'estelar', 'nó', 'maneira', 'universo', 'conhec', 'si', 'a', 'imaginação', 'important', 'conhecimento', 'o', 'conhecimento', 'limitado', 'a', 'imaginação', 'envolv', 'mundo']\n",
      "['Nós', 'feitos', 'poeira', 'estelar', 'Nós', 'maneira', 'universo', 'conhecer', 'si', 'A', 'imaginação', 'importante', 'conhecimento', 'O', 'conhecimento', 'limitado', 'A', 'imaginação', 'envolve', 'mundo']\n"
     ]
    }
   ],
   "source": [
    "stemmer = PorterStemmer()\n",
    "stem1 = [stemmer.stem(p) for p in palavras_sem_stopwords]\n",
    "print(stem1)\n",
    "print(palavras_sem_stopwords)"
   ]
  },
  {
   "cell_type": "code",
   "execution_count": 17,
   "id": "d2355ef4",
   "metadata": {},
   "outputs": [
    {
     "name": "stdout",
     "output_type": "stream",
     "text": [
      "['nós', 'feit', 'poeir', 'estel', 'nós', 'maneir', 'univers', 'conhec', 'si', 'a', 'imagin', 'import', 'conhec', 'o', 'conhec', 'limit', 'a', 'imagin', 'envolv', 'mund']\n",
      "['Nós', 'feitos', 'poeira', 'estelar', 'Nós', 'maneira', 'universo', 'conhecer', 'si', 'A', 'imaginação', 'importante', 'conhecimento', 'O', 'conhecimento', 'limitado', 'A', 'imaginação', 'envolve', 'mundo']\n"
     ]
    }
   ],
   "source": [
    "stem2 = [SnowballStemmer('portuguese').stem(p) for p in palavras_sem_stopwords]\n",
    "print(stem2)\n",
    "print(palavras_sem_stopwords)"
   ]
  },
  {
   "cell_type": "code",
   "execution_count": 18,
   "id": "ee476b0b",
   "metadata": {},
   "outputs": [
    {
     "name": "stdout",
     "output_type": "stream",
     "text": [
      "['Minha', 'esposa', 'é', 'linda', '.', 'Ela', 'é', 'minha', 'vida', '.', 'Amo', 'ela', '.']\n"
     ]
    }
   ],
   "source": [
    "texto_en = \"Minha esposa é linda. Ela é minha vida. Amo ela.\"\n",
    "tokens_en = word_tokenize(texto_en)\n",
    "print(tokens_en)"
   ]
  },
  {
   "cell_type": "code",
   "execution_count": 20,
   "id": "a8bd44e3",
   "metadata": {},
   "outputs": [
    {
     "name": "stdout",
     "output_type": "stream",
     "text": [
      "(S\n",
      "  (GPE Minha/NNP)\n",
      "  esposa/NN\n",
      "  é/NNP\n",
      "  linda/NN\n",
      "  ./.\n",
      "  (PERSON Ela/NNP)\n",
      "  é/NNP\n",
      "  minha/NN\n",
      "  vida/NN\n",
      "  ./.\n",
      "  Amo/NNP\n",
      "  ela/NN\n",
      "  ./.)\n"
     ]
    }
   ],
   "source": [
    "tags = pos_tag(tokens_en)\n",
    "en = nltk.ne_chunk(tags)\n",
    "\n",
    "print(en)\n"
   ]
  }
 ],
 "metadata": {
  "kernelspec": {
   "display_name": "Python 3",
   "language": "python",
   "name": "python3"
  },
  "language_info": {
   "codemirror_mode": {
    "name": "ipython",
    "version": 3
   },
   "file_extension": ".py",
   "mimetype": "text/x-python",
   "name": "python",
   "nbconvert_exporter": "python",
   "pygments_lexer": "ipython3",
   "version": "3.7.9"
  }
 },
 "nbformat": 4,
 "nbformat_minor": 5
}
