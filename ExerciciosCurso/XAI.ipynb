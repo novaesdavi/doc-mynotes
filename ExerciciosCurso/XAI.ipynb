{
 "cells": [
  {
   "cell_type": "code",
   "execution_count": 22,
   "id": "caac409a",
   "metadata": {},
   "outputs": [],
   "source": [
    "import pandas as pd\n",
    "from sklearn.model_selection import train_test_split\n",
    "from sklearn.preprocessing import LabelEncoder\n",
    "from sklearn.ensemble import RandomForestClassifier\n",
    "import IPython\n",
    "import numpy as np\n",
    "import eli5\n",
    "from eli5 import show_prediction\n",
    "import shap\n",
    "import lime.lime_tabular\n",
    "from interpret import set_visualize_provider\n",
    "from interpret.blackbox import LimeTabular\n",
    "from interpret.provider import InlineProvider\n",
    "from interpret.glassbox import ExplainableBoostingClassifier\n",
    "from interpret import show"
   ]
  },
  {
   "cell_type": "code",
   "execution_count": 23,
   "id": "fd08d97a",
   "metadata": {},
   "outputs": [
    {
     "data": {
      "text/plain": [
       "(1000, 21)"
      ]
     },
     "execution_count": 23,
     "metadata": {},
     "output_type": "execute_result"
    }
   ],
   "source": [
    "credito = pd.read_csv('./arquivos/Credit.csv')\n",
    "\n",
    "credito.shape"
   ]
  },
  {
   "cell_type": "code",
   "execution_count": 24,
   "id": "79571ceb",
   "metadata": {},
   "outputs": [],
   "source": [
    "previsores = credito.iloc[:,:-1].values\n",
    "classe = credito.iloc[:,-1].values"
   ]
  },
  {
   "cell_type": "code",
   "execution_count": 27,
   "id": "8fa50730",
   "metadata": {},
   "outputs": [],
   "source": [
    "labelEncoder = LabelEncoder()\n",
    "classe = labelEncoder.fit_transform(classe)"
   ]
  },
  {
   "cell_type": "code",
   "execution_count": 28,
   "id": "68c290e0",
   "metadata": {},
   "outputs": [],
   "source": [
    "labelEncoder = LabelEncoder()\n",
    "for i in range(0, previsores.shape[1]):\n",
    "    if previsores[:,i].dtype == 'object':\n",
    "        previsores[:,i] = labelEncoder.fit_transform(previsores[:,i])\n",
    "\n",
    "X_treinamento, X_teste, y_treinamento, y_teste = train_test_split(previsores, classe, test_size=0.3, random_state=0)    "
   ]
  },
  {
   "cell_type": "code",
   "execution_count": 29,
   "id": "3269063a",
   "metadata": {},
   "outputs": [
    {
     "data": {
      "text/plain": [
       "RandomForestClassifier(n_estimators=1000)"
      ]
     },
     "execution_count": 29,
     "metadata": {},
     "output_type": "execute_result"
    }
   ],
   "source": [
    "modelo = RandomForestClassifier(n_estimators=1000)\n",
    "modelo.fit(X_treinamento, y_treinamento)    "
   ]
  }
 ],
 "metadata": {
  "kernelspec": {
   "display_name": "Python 3",
   "language": "python",
   "name": "python3"
  },
  "language_info": {
   "codemirror_mode": {
    "name": "ipython",
    "version": 3
   },
   "file_extension": ".py",
   "mimetype": "text/x-python",
   "name": "python",
   "nbconvert_exporter": "python",
   "pygments_lexer": "ipython3",
   "version": "3.7.9"
  }
 },
 "nbformat": 4,
 "nbformat_minor": 5
}
