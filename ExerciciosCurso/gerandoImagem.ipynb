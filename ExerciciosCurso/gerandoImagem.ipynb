{
 "cells": [
  {
   "cell_type": "code",
   "execution_count": null,
   "id": "1c1d127d",
   "metadata": {},
   "outputs": [],
   "source": [
    "######https://github.com/Wan-Video/Wan2.2/##########\n",
    "\n",
    "##ultimo passo executado\n",
    "\n",
    "##pip install modelscope\n",
    "##modelscope download Wan-AI/Wan2.2-T2V-A14B --local_dir ./Wan2.2-T2V-A14B\n",
    "\n",
    "###"
   ]
  }
 ],
 "metadata": {
  "language_info": {
   "name": "python"
  }
 },
 "nbformat": 4,
 "nbformat_minor": 5
}
