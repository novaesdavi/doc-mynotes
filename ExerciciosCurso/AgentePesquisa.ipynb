{
 "cells": [
  {
   "cell_type": "code",
   "execution_count": 96,
   "id": "71236c32",
   "metadata": {},
   "outputs": [],
   "source": [
    "from duckduckgo_search import DDGS\n",
    "from openai import OpenAI\n",
    "import os"
   ]
  },
  {
   "cell_type": "code",
   "execution_count": 97,
   "id": "6831bf59",
   "metadata": {},
   "outputs": [],
   "source": [
    "apikeyGpt = os.environ.get('GPT_APIKEY')   # None if unset\n",
    "if not apikeyGpt:\n",
    "    raise RuntimeError(\"GPT_APIKEY not set. Set it in PowerShell or Windows Environment Variables.\")\n",
    "clientGpt = OpenAI(api_key=apikeyGpt)"
   ]
  },
  {
   "cell_type": "code",
   "execution_count": null,
   "id": "15539f36",
   "metadata": {},
   "outputs": [],
   "source": [
    "def buscar_web(pergunta):\n",
    "        with DDGS() as ddgs:\n",
    "            resultados = ddgs.text(pergunta, max_results=3)\n",
    "            textos = [r['body'] for r in resultados]\n",
    "            print(\"1. Pergunta:\\n\", pergunta)\n",
    "            print(\"2. Resultado:\\n\", resultados)\n",
    "            print(\"3. Resultado ajustado da busca web:\\n\", textos)\n",
    "            return \"\\n\".join(textos)"
   ]
  },
  {
   "cell_type": "code",
   "execution_count": null,
   "id": "a524d494",
   "metadata": {},
   "outputs": [],
   "source": [
    "def agentePesquisa(pergunta):\n",
    "    resultados = buscar_web(pergunta)\n",
    "    contexto = resultados\n",
    "    prompt = f\"\"\"Você é um agente inteligente de investimentos. O usuário fez a seguinte pergunta pra você: {pergunta}.\n",
    "    Você pesquisou na internet mais informações e encontrou o seguinte contexto: {contexto}\n",
    "    Usando apenas as informações do contexto, responda a pergunta do usuário de forma clara e objetiva.\n",
    "    Se não houver dados necessáirios no contexto, responda que não sabe.\n",
    "    \"\"\"\n",
    "    response = clientGpt.responses.create(\n",
    "        model=\"gpt-4.1-nano\",\n",
    "        input=prompt,\n",
    "        max_output_tokens=256)\n",
    "    return \"Resposta Agente :\"+ response.output_text"
   ]
  },
  {
   "cell_type": "code",
   "execution_count": 101,
   "id": "ba5aae83",
   "metadata": {},
   "outputs": [
    {
     "name": "stderr",
     "output_type": "stream",
     "text": [
      "C:\\Users\\dnova\\AppData\\Local\\Temp\\ipykernel_8004\\4119461558.py:2: RuntimeWarning: This package (`duckduckgo_search`) has been renamed to `ddgs`! Use `pip install ddgs` instead.\n",
      "  with DDGS() as ddgs:\n"
     ]
    },
    {
     "name": "stdout",
     "output_type": "stream",
     "text": [
      "1. Pergunta:\n",
      " Em que ano o ano pisou na lua?\n",
      "2. Resultado:\n",
      " [{'title': 'Primeiro homem a pisar na Lua - Brasil Escola', 'href': 'https://m.brasilescola.uol.com.br/fisica/primeiro-homem-pisar-na-lua.htm', 'body': 'Sep 18, 2023 · No dia 20 de julho de 1969, Neil Armstrong tornou-se o primeiro homem a pisar na Lua.'}, {'title': 'Homem pisava na Lua pela primeira vez há 48 anos; relembre a missão', 'href': 'https://revistagalileu.globo.com/Ciencia/Espaco/noticia/2014/07/homem-pisava-na-lua-pela-primeira-vez-ha-45-anos-relembre-missao.html', 'body': 'Jul 20, 2014 · Há 48 anos, de 16 a 24 de julho de 1969, a missão Apollo 11 entrava para a história por ser a primeira a conseguir fazer com que astronautas caminhassem pela lua e retornassem à …'}, {'title': 'Chegada do ser humano à Lua na missão espacial Apollo 11 faz 56 anos', 'href': 'https://news.un.org/pt/story/2025/07/1850485', 'body': 'Jul 20, 2025 · A data marca o primeiro pouso humano em superfície lunar através da missão Apollo 11, que foi realizada em 1969. Neste grande marco para a humanidade, os astronautas Neil …'}]\n",
      "3. Texto ajustado da busca web:\n",
      " ['Sep 18, 2023 · No dia 20 de julho de 1969, Neil Armstrong tornou-se o primeiro homem a pisar na Lua.', 'Jul 20, 2014 · Há 48 anos, de 16 a 24 de julho de 1969, a missão Apollo 11 entrava para a história por ser a primeira a conseguir fazer com que astronautas caminhassem pela lua e retornassem à …', 'Jul 20, 2025 · A data marca o primeiro pouso humano em superfície lunar através da missão Apollo 11, que foi realizada em 1969. Neste grande marco para a humanidade, os astronautas Neil …']\n",
      "O homem pisou na Lua em 1969.\n"
     ]
    }
   ],
   "source": [
    "print(agentePesquisa(\"Em que ano o ano pisou na lua?\"))\n"
   ]
  }
 ],
 "metadata": {
  "kernelspec": {
   "display_name": "Python 3",
   "language": "python",
   "name": "python3"
  },
  "language_info": {
   "codemirror_mode": {
    "name": "ipython",
    "version": 3
   },
   "file_extension": ".py",
   "mimetype": "text/x-python",
   "name": "python",
   "nbconvert_exporter": "python",
   "pygments_lexer": "ipython3",
   "version": "3.13.9"
  }
 },
 "nbformat": 4,
 "nbformat_minor": 5
}
