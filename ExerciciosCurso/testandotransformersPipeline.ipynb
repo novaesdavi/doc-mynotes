{
 "cells": [
  {
   "cell_type": "code",
   "execution_count": 7,
   "id": "3f138291",
   "metadata": {},
   "outputs": [],
   "source": [
    "import transformers\n",
    "from transformers import pipeline"
   ]
  },
  {
   "cell_type": "code",
   "execution_count": 5,
   "id": "a1baf4b1",
   "metadata": {},
   "outputs": [
    {
     "name": "stderr",
     "output_type": "stream",
     "text": [
      "Device set to use cpu\n"
     ]
    }
   ],
   "source": [
    "gerador = pipeline(\"text-generation\", model=\"pierreguillou/gpt2-small-portuguese\")"
   ]
  },
  {
   "cell_type": "code",
   "execution_count": 6,
   "id": "a0b7be86",
   "metadata": {},
   "outputs": [
    {
     "name": "stderr",
     "output_type": "stream",
     "text": [
      "Truncation was not explicitly activated but `max_length` is provided a specific value, please use `truncation=True` to explicitly truncate examples to max length. Defaulting to 'longest_first' truncation strategy. If you encode pairs of sequences (GLUE-style) with the tokenizer you can select this strategy more precisely by providing a specific strategy to `truncation`.\n",
      "Both `max_new_tokens` (=256) and `max_length`(=50) seem to have been set. `max_new_tokens` will take precedence. Please refer to the documentation for more information. (https://huggingface.co/docs/transformers/main/en/main_classes/text_generation)\n"
     ]
    },
    {
     "name": "stdout",
     "output_type": "stream",
     "text": [
      "[{'generated_text': 'frase de Freud.\\n\\nCarl Friedrich Gauss (1842-1914), médico alemão, foi um dos pioneiros da medicina e do tratamento de doenças.\\n\\nCarl Friedrich Gauss nasceu em Göttingen, Alemanha, em 1842. Estudou medicina na Universidade de Göttingen, onde se tornou um dos mais importantes médicos alemães. A partir daí, Gauss passou a interessar-se por assuntos clínicos e experimentais, especialmente em doenças neurológicas, neurocirurgias e neurológicas. Além de suas pesquisas, Gauss demonstrou um interesse em fisiologia e fisiologia de invertebrados, em particular a espécie \"Allaurus\" (que ele chamava de \"Allosaurus de \"Allosaurus\" em latim, em referência ao seu papel como um membro do grupo dos grandes macacos), e por invertebrados como \"Cylindrhylloga\" e \"Cylindrhynchus\" (que ele chamou de \"alcotratus\"), que ele chamou de \"Allosaurus de \"Allosaurus\".\\n\\nApós a graduação em medicina, Gauss trabalhou como assistente de clínico em Göttingen, onde foi diretor de um hospital de crianças. Em 1846, Gauss tornou-se um membro da Sociedade Real de Medicina de Göttingen, que também foi, até então, o principal centro de pesquisas médicas no país.\\n\\nEm'}, {'generated_text': 'frase de Freud, que a fez sentir \"muito forte pela sua própria falta de entendimento. Era um homem capaz de lidar com a emoção e a dor, mas não era capaz de se esforçar para superar os seus sentimentos e fazer as coisas que eram necessárias para ajudar os outros\".\\n\\nEle descreveu Freud como uma \"representação\" de Freud, mas em muitos aspectos, ele era um \"discípulo\" da personalidade. Ele acreditava que a personalidade tinha uma natureza \"não-intera\" que se dava de forma \"normal\", e que a personalidade não era a mesma coisa. Ele via a personalidade como uma \"força positiva\" de uma pessoa e uma \"força negativa\", e que esse poder era \"a causa da falta de inteligência e do mal-estar\". Ele acreditava que o mundo não era a mesma coisa que parecia. Ele acreditava que o mundo era uma \"força positiva\", mas que a personalidade não era a mesma coisa que parecia. Ele acreditava que o mundo não era a mesma coisa que parecia. Ele acreditava que o mundo não era a mesma coisa que parecia.\\n\\nEm 1939, durante sua visita a Moscou, Freud descobriu que a personalidade não era apenas uma pessoa \"convencional, mas o tipo de pessoa que ela estava\". Ela era uma pessoa \"conven'}, {'generated_text': 'frase de Freud e publicou as obras de Franz Boas, Karl Marx, Friedrich Engels e Friedrich Engels, nos anos 20. \\n\\nSuas obras incluem a \"O Homem e o Pensamento\" (1902), \"A Arte de Man\" (1905), \"Psicologia e os Homens\" (1907-1911), \"O Homem e a Social\" (1909), \"A Arte e os Serões\" (1911-1912), \"O Homem e as Letras\" (1912), \"A Arte e o Pensamento\" (1915-1920), \"O Homem e a Social\" (1920-1922), \"A Arte e o Pensamento\" (1923-1926) e \"Os Homens e a Arte\" (1926-1929). \\n\\nSuas obras mais recentes são: \"O Homem e a Social\" (1934), \"O Homem e a Social\" (1934), \"O Homem e a Social\" (1937), \"O Homem e a Social\" (1939), \"A Arte e a Cultura\" (1943), \"A Arte e o Pensamento\" (1944), \"A Arte e o Pensamento\" (1945), \"Os Homens e a Arte\" (1947), \"A Arte e o Pensamento\" (1949), \"O Homem e a Social\" (1952), \"O Homem e a Cultura\"'}]\n"
     ]
    }
   ],
   "source": [
    "texto = \"frase de Freud\"\n",
    "resultado = gerador(texto, max_length=50, num_return_sequences=3)\n",
    "print(resultado)"
   ]
  }
 ],
 "metadata": {
  "kernelspec": {
   "display_name": "Python 3",
   "language": "python",
   "name": "python3"
  },
  "language_info": {
   "codemirror_mode": {
    "name": "ipython",
    "version": 3
   },
   "file_extension": ".py",
   "mimetype": "text/x-python",
   "name": "python",
   "nbconvert_exporter": "python",
   "pygments_lexer": "ipython3",
   "version": "3.13.9"
  }
 },
 "nbformat": 4,
 "nbformat_minor": 5
}
